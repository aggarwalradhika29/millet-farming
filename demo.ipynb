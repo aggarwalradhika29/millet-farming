{
 "cells": [
  {
   "cell_type": "code",
   "execution_count": 16,
   "metadata": {},
   "outputs": [],
   "source": [
    "import asf_search as asf\n",
    "import geopandas as gpd\n",
    "import fiona, os, shutil\n",
    "from fiona.crs import to_string\n",
    "from pathlib import Path"
   ]
  },
  {
   "cell_type": "code",
   "execution_count": 17,
   "metadata": {},
   "outputs": [],
   "source": [
    "start = '2022-07-01T00:00:00.000Z'\n",
    "end = '2022-07-10T00:23:00.000Z'"
   ]
  },
  {
   "cell_type": "code",
   "execution_count": 18,
   "metadata": {},
   "outputs": [],
   "source": [
    "path = r'C:\\Users\\ncu\\Desktop\\millet_farming\\shape_file\\mahendragarh.shp'\n",
    "df = gpd.read_file(path)\n",
    "fi = fiona.open(path, crs='epsg:4326')"
   ]
  },
  {
   "cell_type": "code",
   "execution_count": 19,
   "metadata": {},
   "outputs": [
    {
     "name": "stdout",
     "output_type": "stream",
     "text": [
      "Total polygons:  1\n",
      "CRS:  EPSG:4326\n",
      "Bounds:  (75.8889999389649, 28.147859573364258, 76.38835906982428, 28.471929550171012)\n",
      "Schema:  {'properties': {'ID_0': 'int:10', 'ISO': 'str:3', 'NAME_0': 'str:75', 'ID_1': 'int:10', 'NAME_1': 'str:75', 'ID_2': 'int:10', 'NAME_2': 'str:75', 'ID_3': 'int:10', 'NAME_3': 'str:75', 'TYPE_3': 'str:50', 'ENGTYPE_3': 'str:50', 'NL_NAME_3': 'str:75', 'VARNAME_3': 'str:100'}, 'geometry': 'Polygon'}\n"
     ]
    }
   ],
   "source": [
    "print('Total polygons: ', len(list(fi)))\n",
    "print('CRS: ', to_string(fi.crs))\n",
    "print(\"Bounds: \", fi.bounds)\n",
    "print(\"Schema: \", fi.schema)"
   ]
  },
  {
   "cell_type": "code",
   "execution_count": 20,
   "metadata": {},
   "outputs": [],
   "source": [
    "shp = df.to_crs(epsg=4326)\n",
    "wkt = str(shp['geometry'][0])"
   ]
  },
  {
   "cell_type": "code",
   "execution_count": 21,
   "metadata": {},
   "outputs": [
    {
     "name": "stdout",
     "output_type": "stream",
     "text": [
      "{\n",
      "  \"features\": [\n",
      "    {\n",
      "      \"geometry\": {\n",
      "        \"coordinates\": [\n",
      "          [\n",
      "            [\n",
      "              77.371658,\n",
      "              26.433838\n",
      "            ],\n",
      "            [\n",
      "              77.701714,\n",
      "              27.941822\n",
      "            ],\n",
      "            [\n",
      "              75.158936,\n",
      "              28.352581\n",
      "            ],\n",
      "            [\n",
      "              74.863678,\n",
      "              26.847361\n",
      "            ],\n",
      "            [\n",
      "              77.371658,\n",
      "              26.433838\n",
      "            ]\n",
      "          ]\n",
      "        ],\n",
      "        \"type\": \"Polygon\"\n",
      "      },\n",
      "      \"properties\": {\n",
      "        \"beamModeType\": \"IW\",\n",
      "        \"browse\": [\n",
      "          \"https://datapool.asf.alaska.edu/BROWSE/SA/S1A_IW_GRDH_1SDV_20220705T005249_20220705T005314_043958_053F54_E3F8.jpg\"\n",
      "        ],\n",
      "        \"bytes\": 1005396112,\n",
      "        \"centerLat\": 27.3996,\n",
      "        \"centerLon\": 76.2764,\n",
      "        \"faradayRotation\": null,\n",
      "        \"fileID\": \"S1A_IW_GRDH_1SDV_20220705T005249_20220705T005314_043958_053F54_E3F8-GRD_HD\",\n",
      "        \"fileName\": \"S1A_IW_GRDH_1SDV_20220705T005249_20220705T005314_043958_053F54_E3F8.zip\",\n",
      "        \"flightDirection\": \"DESCENDING\",\n",
      "        \"frameNumber\": 501,\n",
      "        \"granuleType\": \"SENTINEL_1A_FRAME\",\n",
      "        \"groupID\": \"S1A_IWDV_0501_0506_043958_136\",\n",
      "        \"insarStackId\": null,\n",
      "        \"md5sum\": \"3cc768cab129fd50097be4b92921832d\",\n",
      "        \"offNadirAngle\": null,\n",
      "        \"orbit\": 43958,\n",
      "        \"pathNumber\": 136,\n",
      "        \"pgeVersion\": \"003.52\",\n",
      "        \"platform\": \"Sentinel-1A\",\n",
      "        \"pointingAngle\": null,\n",
      "        \"polarization\": \"VV+VH\",\n",
      "        \"processingDate\": \"2022-07-05T00:52:49.000Z\",\n",
      "        \"processingLevel\": \"GRD_HD\",\n",
      "        \"sceneName\": \"S1A_IW_GRDH_1SDV_20220705T005249_20220705T005314_043958_053F54_E3F8\",\n",
      "        \"sensor\": \"C-SAR\",\n",
      "        \"startTime\": \"2022-07-05T00:52:49.000Z\",\n",
      "        \"stopTime\": \"2022-07-05T00:53:14.000Z\",\n",
      "        \"url\": \"https://datapool.asf.alaska.edu/GRD_HD/SA/S1A_IW_GRDH_1SDV_20220705T005249_20220705T005314_043958_053F54_E3F8.zip\"\n",
      "      },\n",
      "      \"type\": \"Feature\"\n",
      "    },\n",
      "    {\n",
      "      \"geometry\": {\n",
      "        \"coordinates\": [\n",
      "          [\n",
      "            [\n",
      "              77.701736,\n",
      "              27.941912\n",
      "            ],\n",
      "            [\n",
      "              78.035118,\n",
      "              29.449314\n",
      "            ],\n",
      "            [\n",
      "              75.454102,\n",
      "              29.857548\n",
      "            ],\n",
      "            [\n",
      "              75.158249,\n",
      "              28.352777\n",
      "            ],\n",
      "            [\n",
      "              77.701736,\n",
      "              27.941912\n",
      "            ]\n",
      "          ]\n",
      "        ],\n",
      "        \"type\": \"Polygon\"\n",
      "      },\n",
      "      \"properties\": {\n",
      "        \"beamModeType\": \"IW\",\n",
      "        \"browse\": [\n",
      "          \"https://datapool.asf.alaska.edu/BROWSE/SA/S1A_IW_GRDH_1SDV_20220705T005224_20220705T005249_043958_053F54_31F7.jpg\"\n",
      "        ],\n",
      "        \"bytes\": 1019261942,\n",
      "        \"centerLat\": 28.9064,\n",
      "        \"centerLon\": 76.5899,\n",
      "        \"faradayRotation\": null,\n",
      "        \"fileID\": \"S1A_IW_GRDH_1SDV_20220705T005224_20220705T005249_043958_053F54_31F7-GRD_HD\",\n",
      "        \"fileName\": \"S1A_IW_GRDH_1SDV_20220705T005224_20220705T005249_043958_053F54_31F7.zip\",\n",
      "        \"flightDirection\": \"DESCENDING\",\n",
      "        \"frameNumber\": 496,\n",
      "        \"granuleType\": \"SENTINEL_1A_FRAME\",\n",
      "        \"groupID\": \"S1A_IWDV_0495_0502_043958_136\",\n",
      "        \"insarStackId\": null,\n",
      "        \"md5sum\": \"7adee0d098742e0178cfa38750da0ff5\",\n",
      "        \"offNadirAngle\": null,\n",
      "        \"orbit\": 43958,\n",
      "        \"pathNumber\": 136,\n",
      "        \"pgeVersion\": \"003.52\",\n",
      "        \"platform\": \"Sentinel-1A\",\n",
      "        \"pointingAngle\": null,\n",
      "        \"polarization\": \"VV+VH\",\n",
      "        \"processingDate\": \"2022-07-05T00:52:24.000Z\",\n",
      "        \"processingLevel\": \"GRD_HD\",\n",
      "        \"sceneName\": \"S1A_IW_GRDH_1SDV_20220705T005224_20220705T005249_043958_053F54_31F7\",\n",
      "        \"sensor\": \"C-SAR\",\n",
      "        \"startTime\": \"2022-07-05T00:52:24.000Z\",\n",
      "        \"stopTime\": \"2022-07-05T00:52:49.000Z\",\n",
      "        \"url\": \"https://datapool.asf.alaska.edu/GRD_HD/SA/S1A_IW_GRDH_1SDV_20220705T005224_20220705T005249_043958_053F54_31F7.zip\"\n",
      "      },\n",
      "      \"type\": \"Feature\"\n",
      "    }\n",
      "  ],\n",
      "  \"type\": \"FeatureCollection\"\n",
      "}\n"
     ]
    }
   ],
   "source": [
    "findOrbit = asf.geo_search(platform=[asf.PLATFORM.SENTINEL1A], intersectsWith=wkt, processingLevel='GRD_HD', start=start, end=end, flightDirection='Descending')\n",
    "print(findOrbit)"
   ]
  },
  {
   "cell_type": "code",
   "execution_count": 22,
   "metadata": {},
   "outputs": [
    {
     "name": "stdout",
     "output_type": "stream",
     "text": [
      "43958\n"
     ]
    }
   ],
   "source": [
    "orbit = int(findOrbit[-1].geojson()['properties']['fileName'][49:55])\n",
    "print(orbit)"
   ]
  },
  {
   "cell_type": "code",
   "execution_count": 23,
   "metadata": {},
   "outputs": [
    {
     "name": "stdout",
     "output_type": "stream",
     "text": [
      "136\n"
     ]
    }
   ],
   "source": [
    "rel = (orbit - 73) % 175\n",
    "rel = rel + 1\n",
    "print(rel)"
   ]
  },
  {
   "cell_type": "code",
   "execution_count": 24,
   "metadata": {},
   "outputs": [],
   "source": [
    "result = asf.geo_search(platform=[asf.PLATFORM.SENTINEL1A], intersectsWith=wkt, processingLevel=[asf.PRODUCT_TYPE.GRD_HD], start=start, end=end, flightDirection='Descending', relativeOrbit=rel)\n",
    "metadata = result.geojson()"
   ]
  },
  {
   "cell_type": "code",
   "execution_count": 25,
   "metadata": {},
   "outputs": [
    {
     "data": {
      "text/plain": [
       "{'type': 'FeatureCollection',\n",
       " 'features': [{'type': 'Feature',\n",
       "   'geometry': {'coordinates': [[[77.371658, 26.433838],\n",
       "      [77.701714, 27.941822],\n",
       "      [75.158936, 28.352581],\n",
       "      [74.863678, 26.847361],\n",
       "      [77.371658, 26.433838]]],\n",
       "    'type': 'Polygon'},\n",
       "   'properties': {'beamModeType': 'IW',\n",
       "    'browse': ['https://datapool.asf.alaska.edu/BROWSE/SA/S1A_IW_GRDH_1SDV_20220705T005249_20220705T005314_043958_053F54_E3F8.jpg'],\n",
       "    'bytes': 1005396112,\n",
       "    'centerLat': 27.3996,\n",
       "    'centerLon': 76.2764,\n",
       "    'faradayRotation': None,\n",
       "    'fileID': 'S1A_IW_GRDH_1SDV_20220705T005249_20220705T005314_043958_053F54_E3F8-GRD_HD',\n",
       "    'flightDirection': 'DESCENDING',\n",
       "    'groupID': 'S1A_IWDV_0501_0506_043958_136',\n",
       "    'granuleType': 'SENTINEL_1A_FRAME',\n",
       "    'insarStackId': None,\n",
       "    'md5sum': '3cc768cab129fd50097be4b92921832d',\n",
       "    'offNadirAngle': None,\n",
       "    'orbit': 43958,\n",
       "    'pathNumber': 136,\n",
       "    'platform': 'Sentinel-1A',\n",
       "    'pointingAngle': None,\n",
       "    'polarization': 'VV+VH',\n",
       "    'processingDate': '2022-07-05T00:52:49.000Z',\n",
       "    'processingLevel': 'GRD_HD',\n",
       "    'sceneName': 'S1A_IW_GRDH_1SDV_20220705T005249_20220705T005314_043958_053F54_E3F8',\n",
       "    'sensor': 'C-SAR',\n",
       "    'startTime': '2022-07-05T00:52:49.000Z',\n",
       "    'stopTime': '2022-07-05T00:53:14.000Z',\n",
       "    'url': 'https://datapool.asf.alaska.edu/GRD_HD/SA/S1A_IW_GRDH_1SDV_20220705T005249_20220705T005314_043958_053F54_E3F8.zip',\n",
       "    'pgeVersion': '003.52',\n",
       "    'fileName': 'S1A_IW_GRDH_1SDV_20220705T005249_20220705T005314_043958_053F54_E3F8.zip',\n",
       "    'frameNumber': 501}},\n",
       "  {'type': 'Feature',\n",
       "   'geometry': {'coordinates': [[[77.701736, 27.941912],\n",
       "      [78.035118, 29.449314],\n",
       "      [75.454102, 29.857548],\n",
       "      [75.158249, 28.352777],\n",
       "      [77.701736, 27.941912]]],\n",
       "    'type': 'Polygon'},\n",
       "   'properties': {'beamModeType': 'IW',\n",
       "    'browse': ['https://datapool.asf.alaska.edu/BROWSE/SA/S1A_IW_GRDH_1SDV_20220705T005224_20220705T005249_043958_053F54_31F7.jpg'],\n",
       "    'bytes': 1019261942,\n",
       "    'centerLat': 28.9064,\n",
       "    'centerLon': 76.5899,\n",
       "    'faradayRotation': None,\n",
       "    'fileID': 'S1A_IW_GRDH_1SDV_20220705T005224_20220705T005249_043958_053F54_31F7-GRD_HD',\n",
       "    'flightDirection': 'DESCENDING',\n",
       "    'groupID': 'S1A_IWDV_0495_0502_043958_136',\n",
       "    'granuleType': 'SENTINEL_1A_FRAME',\n",
       "    'insarStackId': None,\n",
       "    'md5sum': '7adee0d098742e0178cfa38750da0ff5',\n",
       "    'offNadirAngle': None,\n",
       "    'orbit': 43958,\n",
       "    'pathNumber': 136,\n",
       "    'platform': 'Sentinel-1A',\n",
       "    'pointingAngle': None,\n",
       "    'polarization': 'VV+VH',\n",
       "    'processingDate': '2022-07-05T00:52:24.000Z',\n",
       "    'processingLevel': 'GRD_HD',\n",
       "    'sceneName': 'S1A_IW_GRDH_1SDV_20220705T005224_20220705T005249_043958_053F54_31F7',\n",
       "    'sensor': 'C-SAR',\n",
       "    'startTime': '2022-07-05T00:52:24.000Z',\n",
       "    'stopTime': '2022-07-05T00:52:49.000Z',\n",
       "    'url': 'https://datapool.asf.alaska.edu/GRD_HD/SA/S1A_IW_GRDH_1SDV_20220705T005224_20220705T005249_043958_053F54_31F7.zip',\n",
       "    'pgeVersion': '003.52',\n",
       "    'fileName': 'S1A_IW_GRDH_1SDV_20220705T005224_20220705T005249_043958_053F54_31F7.zip',\n",
       "    'frameNumber': 496}}]}"
      ]
     },
     "execution_count": 25,
     "metadata": {},
     "output_type": "execute_result"
    }
   ],
   "source": [
    "metadata"
   ]
  },
  {
   "cell_type": "code",
   "execution_count": 26,
   "metadata": {},
   "outputs": [],
   "source": [
    "session = asf.ASFSession().auth_with_creds('mayankbhardwaj', 'TOPsecret27')\n",
    "dpath = r'C:\\Users\\ncu\\Desktop\\millet_farming\\data\\commonData\\downloadData\\\\'\n",
    "result.download(path = dpath, session=session)"
   ]
  },
  {
   "cell_type": "code",
   "execution_count": null,
   "metadata": {},
   "outputs": [],
   "source": []
  }
 ],
 "metadata": {
  "kernelspec": {
   "display_name": "Python 3",
   "language": "python",
   "name": "python3"
  },
  "language_info": {
   "codemirror_mode": {
    "name": "ipython",
    "version": 3
   },
   "file_extension": ".py",
   "mimetype": "text/x-python",
   "name": "python",
   "nbconvert_exporter": "python",
   "pygments_lexer": "ipython3",
   "version": "3.11.5"
  },
  "orig_nbformat": 4
 },
 "nbformat": 4,
 "nbformat_minor": 2
}
